{
 "cells": [
  {
   "cell_type": "code",
   "execution_count": null,
   "metadata": {},
   "outputs": [],
   "source": [
    "# basic\n",
    "import logging\n",
    "import os, sys\n",
    "import numpy as np\n",
    "\n",
    "# gym\n",
    "import gym\n",
    "from gym.wrappers import Monitor\n",
    "import gym_ple\n",
    "\n",
    "# disply\n",
    "from IPython.display import HTML\n",
    "import matplotlib.pyplot as plt\n",
    "import matplotlib.animation as animation\n",
    "%matplotlib inline"
   ]
  },
  {
   "cell_type": "code",
   "execution_count": null,
   "metadata": {},
   "outputs": [],
   "source": [
    "from IPython.core.interactiveshell import InteractiveShell\n",
    "InteractiveShell.ast_node_interactivity = \"all\""
   ]
  },
  {
   "cell_type": "code",
   "execution_count": null,
   "metadata": {},
   "outputs": [],
   "source": [
    "# random action agent\n",
    "class RandomAgent(object):\n",
    "    def __init__(self, action_space):\n",
    "        self.action_space = action_space\n",
    "\n",
    "    def act(self, observation, reward, done):\n",
    "        return self.action_space.sample()"
   ]
  },
  {
   "cell_type": "code",
   "execution_count": null,
   "metadata": {},
   "outputs": [],
   "source": [
    "# True if one wants to watch video on jupyterlab\n",
    "render = True\n",
    "\n",
    "# logger setup\n",
    "logger = logging.getLogger()\n",
    "logger.setLevel(logging.INFO)\n",
    "\n",
    "# env setup\n",
    "env = gym.make('FlappyBird-v0')\n",
    "\n",
    "if not render:\n",
    "    outdir = '/tmp/random-agent-results'\n",
    "    env = Monitor(env, directory=outdir, force=True)\n",
    "\n",
    "# This declaration must go *after* the monitor call, since the\n",
    "# monitor's seeding creates a new action_space instance with the\n",
    "# appropriate pseudorandom number generator.\n",
    "env.seed(0)\n",
    "agent = RandomAgent(env.action_space)\n",
    "\n",
    "episode_count = 100\n",
    "reward = 0\n",
    "done = False\n",
    "\n",
    "for i in range(episode_count):\n",
    "    ob = env.reset()\n",
    "\n",
    "    frames = []\n",
    "    while True:\n",
    "        action = agent.act(ob, reward, done)\n",
    "        ob, reward, done, _ = env.step(action)\n",
    "        if render:\n",
    "            # save render result to show after training\n",
    "            frames.append(env.render(mode = 'rgb_array'))\n",
    "            # use below instead if you run as script\n",
    "            #env.render()\n",
    "        if done:\n",
    "            break\n",
    "\n",
    "# Dump result info to disk\n",
    "env.close()\n",
    "\n",
    "logger.info(\"Successfully ran RandomAgent.\")"
   ]
  },
  {
   "cell_type": "code",
   "execution_count": null,
   "metadata": {},
   "outputs": [],
   "source": [
    "def animate(frames):\n",
    "    anims = []\n",
    "    fig = plt.figure()\n",
    "    plt.axis('off')\n",
    "    for f in frames:\n",
    "        im = plt.imshow(f)\n",
    "        anims.append([im])\n",
    "    plt.close()\n",
    "    ani = animation.ArtistAnimation(fig, anims, interval=50)\n",
    "    return HTML(ani.to_html5_video())"
   ]
  },
  {
   "cell_type": "code",
   "execution_count": null,
   "metadata": {},
   "outputs": [],
   "source": [
    "animate(frames)"
   ]
  },
  {
   "cell_type": "code",
   "execution_count": null,
   "metadata": {},
   "outputs": [],
   "source": []
  }
 ],
 "metadata": {
  "kernelspec": {
   "display_name": "Python 3",
   "language": "python",
   "name": "python3"
  },
  "language_info": {
   "codemirror_mode": {
    "name": "ipython",
    "version": 3
   },
   "file_extension": ".py",
   "mimetype": "text/x-python",
   "name": "python",
   "nbconvert_exporter": "python",
   "pygments_lexer": "ipython3",
   "version": "3.6.5"
  }
 },
 "nbformat": 4,
 "nbformat_minor": 2
}
